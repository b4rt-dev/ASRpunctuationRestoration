{
 "cells": [
  {
   "cell_type": "markdown",
   "metadata": {},
   "source": [
    "# ASR Punctuation Restoration Experiments\n",
    "By Bart Pleiter S4752740 for the course ASR 2021-2022"
   ]
  },
  {
   "cell_type": "markdown",
   "metadata": {},
   "source": [
    "## Imports and setup"
   ]
  },
  {
   "cell_type": "code",
   "execution_count": 43,
   "metadata": {},
   "outputs": [],
   "source": [
    "# imports\n",
    "import os\n",
    "import re\n",
    "import pandas as pd\n",
    "import numpy as np\n",
    "import pickle\n",
    "import matplotlib.pyplot as plt\n",
    "from tqdm import tqdm\n",
    "import random\n",
    "\n",
    "import tensorflow as tf\n",
    "import tensorflow_hub as hub\n",
    "import tensorflow_text as text\n",
    "from tensorflow.keras import mixed_precision\n",
    "import tensorflow_addons as tfa\n",
    "from tensorflow.keras.utils import Sequence\n",
    "import tensorflow.keras.backend as kb\n",
    "\n",
    "from transformers import BertTokenizer\n",
    "from transformers import TFBertModel\n",
    "\n",
    "from sklearn.metrics import confusion_matrix, ConfusionMatrixDisplay, classification_report\n",
    "\n",
    "import more_itertools as mit"
   ]
  },
  {
   "cell_type": "code",
   "execution_count": 2,
   "metadata": {},
   "outputs": [
    {
     "name": "stdout",
     "output_type": "stream",
     "text": [
      "INFO:tensorflow:Mixed precision compatibility check (mixed_float16): OK\n",
      "Your GPU will likely run quickly with dtype policy mixed_float16 as it has compute capability of at least 7.0. Your GPU: NVIDIA GeForce RTX 3050, compute capability 8.6\n"
     ]
    }
   ],
   "source": [
    "# use mixed precision to speed up training on my RTX3050\n",
    "mixed_precision.set_global_policy('mixed_float16')\n",
    "\n",
    "memoryLimit = 6500 # 6.5GB to leave some free memory for other processes\n",
    "\n",
    "gpus = tf.config.experimental.list_physical_devices('GPU')\n",
    "if gpus:\n",
    "    try:\n",
    "        tf.config.experimental.set_virtual_device_configuration(\n",
    "            gpus[0],\n",
    "            [tf.config.experimental.VirtualDeviceConfiguration(memory_limit=memoryLimit)]\n",
    "        )\n",
    "    except RuntimeError as e:\n",
    "        print(e)"
   ]
  },
  {
   "cell_type": "markdown",
   "metadata": {},
   "source": [
    "## Hyperparameters"
   ]
  },
  {
   "cell_type": "code",
   "execution_count": 3,
   "metadata": {},
   "outputs": [
    {
     "name": "stderr",
     "output_type": "stream",
     "text": [
      "2022-05-26 17:26:11.929809: I tensorflow/core/platform/cpu_feature_guard.cc:151] This TensorFlow binary is optimized with oneAPI Deep Neural Network Library (oneDNN) to use the following CPU instructions in performance-critical operations:  AVX2 FMA\n",
      "To enable them in other operations, rebuild TensorFlow with the appropriate compiler flags.\n",
      "2022-05-26 17:26:12.682328: I tensorflow/core/common_runtime/gpu/gpu_device.cc:1525] Created device /job:localhost/replica:0/task:0/device:GPU:0 with 6500 MB memory:  -> device: 0, name: NVIDIA GeForce RTX 3050, pci bus id: 0000:07:00.0, compute capability: 8.6\n",
      "Some layers from the model checkpoint at bert-base-uncased were not used when initializing TFBertModel: ['mlm___cls', 'nsp___cls']\n",
      "- This IS expected if you are initializing TFBertModel from the checkpoint of a model trained on another task or with another architecture (e.g. initializing a BertForSequenceClassification model from a BertForPreTraining model).\n",
      "- This IS NOT expected if you are initializing TFBertModel from the checkpoint of a model that you expect to be exactly identical (initializing a BertForSequenceClassification model from a BertForSequenceClassification model).\n",
      "All the layers of TFBertModel were initialized from the model checkpoint at bert-base-uncased.\n",
      "If your task is similar to the task the model of the checkpoint was trained on, you can already use TFBertModel for predictions without further training.\n"
     ]
    }
   ],
   "source": [
    "# flags\n",
    "RETRAIN_MODEL = False # retrain the model if true, else load weights from checkpoint\n",
    "\n",
    "# hyperparameters\n",
    "batchSize = 32 # batch size\n",
    "numLabels = 4 # number of labels for each token\n",
    "seqLen = 64 # sequence length to give to BERT (max 512)\n",
    "dropout = 0.5 # dropout amount for the dropout layers\n",
    "learningRate = 1e-5 # learning rate during training\n",
    "epochs = 3 # number of epochs for the training process\n",
    "seqShift = 8 # length of sequence shifting for creating the inputs (lower = more predictions per token)\n",
    "\n",
    "# labels\n",
    "LABEL_NOTHING = 0\n",
    "LABEL_COMMA = 1\n",
    "LABEL_PERIOD = 2\n",
    "LABEL_QUESTION = 3\n",
    "labelNames = [\"O\", \"COMMA\", \"PERIOD\", \"QUESTION\"]\n",
    "\n",
    "# encode the punctuation label as a number\n",
    "punctEncode = {\n",
    "    \"O\": LABEL_NOTHING,\n",
    "    \"COMMA\": LABEL_COMMA,\n",
    "    \"PERIOD\": LABEL_PERIOD,\n",
    "    \"QUESTION\": LABEL_QUESTION\n",
    "}\n",
    "\n",
    "# decode the label for printing purposes\n",
    "punctDecode = {v: k for k, v in punctEncode.items()}\n",
    "\n",
    "# path of datasets (add / at the end)\n",
    "dataPath = \"IWSLTche/Data/\" # for Nagy et al. research: \"IWSLT2012/Data/\"\n",
    "\n",
    "# which BERT network to use\n",
    "modelName = \"bert-base-uncased\"\n",
    "\n",
    "# setup BERT and its tokenizer\n",
    "tokenizer = BertTokenizer.from_pretrained(modelName)\n",
    "bert_layer = TFBertModel.from_pretrained(modelName)\n",
    "\n",
    "# setup checkpoints\n",
    "checkpoint_path = \"checkpoints/IWSLTcheBERTbaseUncased_{epoch:02d}.ckpt\"\n",
    "checkpoint_dir = os.path.dirname(checkpoint_path)\n",
    "cp_callback = tf.keras.callbacks.ModelCheckpoint(filepath=checkpoint_path,\n",
    "                                                 save_weights_only=True,\n",
    "                                                 verbose=1,\n",
    "                                                 save_best_only=False)\n",
    "\n",
    "# which checkpoint to restore if RETRAIN_MODEL is false\n",
    "checkpointPath = \"checkpoints/IWSLTcheBERTbaseUncased_01.ckpt\" #tf.train.latest_checkpoint(checkpoint_dir)"
   ]
  },
  {
   "cell_type": "markdown",
   "metadata": {},
   "source": [
    "## Dataset preparation\n",
    "\n",
    "Loads a preprocessed dataset from file and creats chunks with overlap.\n",
    "See other notebooks (like IWSLTchePrepare.ipynb) for the preprocessing steps!"
   ]
  },
  {
   "cell_type": "code",
   "execution_count": 4,
   "metadata": {},
   "outputs": [],
   "source": [
    "# read the processed dataset from file\n",
    "# also create chunks of seqLen with padding\n",
    "# padding works as follows:\n",
    "#  to give each token the same amount of predictions, padding of seqLen-1 will be applied\n",
    "#  to both the start and end of the data\n",
    "def getPreparedDataset(prefix, shift=True):\n",
    "    def padAndChunkWindowed(data):\n",
    "        data = np.pad(data, (seqLen-1, seqLen-1), mode='constant')\n",
    "        return np.array(list(mit.windowed(data, seqLen, fillvalue=0, step=seqShift)), dtype=\"int32\")\n",
    "\n",
    "    with open(dataPath + modelName + \"/\" + prefix + \"_data.pkl\", 'rb') as f:\n",
    "        X, Y = pickle.load(f)\n",
    "    return padAndChunkWindowed(X), padAndChunkWindowed(Y), len(Y)\n",
    "\n",
    "trainX, trainY, lenTrain = getPreparedDataset(\"train\")\n",
    "valX, valY, lenVal = getPreparedDataset(\"valid\")\n",
    "testX, testY, lenTest = getPreparedDataset(\"test\")\n",
    "testAsrX, testAsrY, lenTestAsr = getPreparedDataset(\"testasr\")"
   ]
  },
  {
   "cell_type": "code",
   "execution_count": 5,
   "metadata": {},
   "outputs": [
    {
     "name": "stdout",
     "output_type": "stream",
     "text": [
      "(284884, 64) 2279001\n",
      "(40160, 64) 321207\n",
      "(1706, 64) 13578\n",
      "(1709, 64) 13596\n"
     ]
    }
   ],
   "source": [
    "print(trainX.shape, lenTrain)\n",
    "print(valX.shape, lenVal)\n",
    "print(testX.shape, lenTest)\n",
    "print(testAsrX.shape, lenTestAsr)"
   ]
  },
  {
   "cell_type": "markdown",
   "metadata": {},
   "source": [
    "## Model creation"
   ]
  },
  {
   "cell_type": "code",
   "execution_count": 6,
   "metadata": {},
   "outputs": [],
   "source": [
    "# custom loss function which replaces the -1 labels and predictions at that place with 0\n",
    "#  to exclude subwords from calculating the loss\n",
    "#  and so it can be used to calculate the sparse categorical crossentropy, which does not work with -1\n",
    "def customSparseCategoricalCrossEntropy(y_actual,y_pred):\n",
    "    y_actual = tf.where(y_actual == -1, 0, y_actual)\n",
    "    y_pred = tf.boolean_mask(y_pred, y_actual != -1)\n",
    "    loss=kb.sparse_categorical_crossentropy(y_actual, y_pred)\n",
    "    \n",
    "    # mean is not really needed\n",
    "    #loss=kb.mean(loss, axis=-1)\n",
    "    #loss=kb.mean(loss, axis=-1)\n",
    "    \n",
    "    return loss"
   ]
  },
  {
   "cell_type": "code",
   "execution_count": 7,
   "metadata": {},
   "outputs": [],
   "source": [
    "# model construction\n",
    "\n",
    "# input layer (batchSize, seqLen)\n",
    "bert_input = tf.keras.Input(shape=(seqLen), dtype='int32', name='bert_input')\n",
    "\n",
    "# get embeddings for each token from BERT layer (batchSize, seqLen, 768)\n",
    "x = bert_layer(bert_input)[0]\n",
    "\n",
    "# do dropout\n",
    "x = tf.keras.layers.Dropout(dropout, name=\"dropout1\")(x)\n",
    "\n",
    "# fully connected layer 768 -> 768x2\n",
    "x = tf.keras.layers.Dense(1536, name='linearExtra')(x)\n",
    "\n",
    "# do dropout\n",
    "x = tf.keras.layers.Dropout(dropout, name=\"dropoutExtra\")(x)\n",
    "\n",
    "# relu activation on fully connected layer output\n",
    "x = tf.keras.layers.Activation('relu', name='relu')(x)\n",
    "\n",
    "# fully connected output layer\n",
    "x = tf.keras.layers.Dense(numLabels, name='linear')(x)\n",
    "\n",
    "# softmax activation on output layer\n",
    "model_out = tf.keras.layers.Activation('sigmoid', dtype='float32', name='softmax')(x)\n",
    "\n",
    "model = tf.keras.Model(inputs=bert_input, outputs=model_out, name='model')\n",
    "model.compile(\n",
    "    tf.keras.optimizers.Adam(learning_rate=learningRate),\n",
    "    loss=customSparseCategoricalCrossEntropy,\n",
    "    metrics=tf.keras.metrics.SparseCategoricalAccuracy()\n",
    ")\n"
   ]
  },
  {
   "cell_type": "code",
   "execution_count": 8,
   "metadata": {},
   "outputs": [
    {
     "name": "stdout",
     "output_type": "stream",
     "text": [
      "Model: \"model\"\n",
      "_________________________________________________________________\n",
      " Layer (type)                Output Shape              Param #   \n",
      "=================================================================\n",
      " bert_input (InputLayer)     [(None, 64)]              0         \n",
      "                                                                 \n",
      " tf_bert_model (TFBertModel)  TFBaseModelOutputWithPoo  109482240\n",
      "                             lingAndCrossAttentions(l            \n",
      "                             ast_hidden_state=(None,             \n",
      "                             64, 768),                           \n",
      "                              pooler_output=(None, 76            \n",
      "                             8),                                 \n",
      "                              past_key_values=None, h            \n",
      "                             idden_states=None, atten            \n",
      "                             tions=None, cross_attent            \n",
      "                             ions=None)                          \n",
      "                                                                 \n",
      " dropout1 (Dropout)          (None, 64, 768)           0         \n",
      "                                                                 \n",
      " linearExtra (Dense)         (None, 64, 1536)          1181184   \n",
      "                                                                 \n",
      " dropoutExtra (Dropout)      (None, 64, 1536)          0         \n",
      "                                                                 \n",
      " relu (Activation)           (None, 64, 1536)          0         \n",
      "                                                                 \n",
      " linear (Dense)              (None, 64, 4)             6148      \n",
      "                                                                 \n",
      " softmax (Activation)        (None, 64, 4)             0         \n",
      "                                                                 \n",
      "=================================================================\n",
      "Total params: 110,669,572\n",
      "Trainable params: 110,669,572\n",
      "Non-trainable params: 0\n",
      "_________________________________________________________________\n"
     ]
    },
    {
     "data": {
      "image/png": "[encoded data removed]",
      "text/plain": [
       "<IPython.core.display.Image object>"
      ]
     },
     "execution_count": 8,
     "metadata": {},
     "output_type": "execute_result"
    }
   ],
   "source": [
    "# plot the model architecture\n",
    "model.summary()\n",
    "tf.keras.utils.plot_model(model, show_shapes=True, dpi=76)"
   ]
  },
  {
   "cell_type": "markdown",
   "metadata": {},
   "source": [
    "## Training"
   ]
  },
  {
   "cell_type": "code",
   "execution_count": 9,
   "metadata": {},
   "outputs": [],
   "source": [
    "if RETRAIN_MODEL:\n",
    "    # training the data\n",
    "    history = model.fit(\n",
    "        trainX, trainY,\n",
    "        #validation_split=0.2,\n",
    "        epochs=epochs,\n",
    "        shuffle=True,\n",
    "        batch_size=batchSize,\n",
    "        validation_data=(valX, valY),\n",
    "        callbacks=[cp_callback]#tf.keras.callbacks.EarlyStopping(monitor='val_loss', verbose=1, patience=2)\n",
    "    )\n",
    "else:\n",
    "    model.load_weights(checkpointPath)"
   ]
  },
  {
   "cell_type": "code",
   "execution_count": 10,
   "metadata": {},
   "outputs": [],
   "source": [
    "if RETRAIN_MODEL:\n",
    "    # show the fitting history\n",
    "    history.history\n",
    "\n",
    "    # plot the loss\n",
    "    plt.plot(history.history['loss'])\n",
    "    plt.plot(history.history['val_loss'])\n",
    "    plt.title('model loss')\n",
    "    plt.ylabel('loss')\n",
    "    plt.xlabel('epoch')\n",
    "    plt.legend(['train', 'val'], loc='upper left')\n",
    "    plt.show()"
   ]
  },
  {
   "cell_type": "markdown",
   "metadata": {},
   "source": [
    "## Basic Evaluation\n",
    "- Precision, Recall and F1 per class\n",
    "- Confusion Matrix"
   ]
  },
  {
   "cell_type": "code",
   "execution_count": 11,
   "metadata": {},
   "outputs": [],
   "source": [
    "# to obtain the indexes of a token in all predictions containing the token\n",
    "predictionsPerToken = seqLen // seqShift\n",
    "def getIndexOfPrediction(i):\n",
    "    x = []\n",
    "    y = []\n",
    "    x0 = seqLen - (seqShift-(i-1) % seqShift)\n",
    "    y0 = (seqShift-1 + i) // seqShift\n",
    "    for p in range(predictionsPerToken):\n",
    "        x.append(x0 - p*predictionsPerToken)\n",
    "        y.append(y0 + p)\n",
    "    \n",
    "    return y, x"
   ]
  },
  {
   "cell_type": "code",
   "execution_count": 28,
   "metadata": {},
   "outputs": [],
   "source": [
    "# evaluates the predicted results\n",
    "# by taking the mean of multiple predictions from the sliding window\n",
    "# and removing the subwords from data (indicated by the -1 true label)\n",
    "def evaluateResults(Ytrue, Ypred, lenData):\n",
    "    \n",
    "    noWindowYtrue = []\n",
    "    noWindowYpred = []\n",
    "    \n",
    "    for i in range(lenData):\n",
    "        ylist, xlist = getIndexOfPrediction(i)\n",
    "        predValues = []\n",
    "        # add the prediction for each token\n",
    "        for n in range(len(ylist)):\n",
    "            predValues.append(Ypred[ylist[n]][xlist[n]])\n",
    "        \n",
    "        # add the true label for the current token\n",
    "        noWindowYtrue.append(Ytrue[ylist[0]][xlist[0]])\n",
    "                \n",
    "        # take the mean of each prediction\n",
    "        predValues = np.array(np.mean(predValues, axis=0))\n",
    "        \n",
    "        noWindowYpred.append(predValues)\n",
    "        \n",
    "    # select best class for each token\n",
    "    noWindowYpred = np.array(noWindowYpred).argmax(axis=-1)    \n",
    "    \n",
    "    # apply mask to ignore (remove) subwords from the arrays\n",
    "    noWindowYtrue = np.array(noWindowYtrue)\n",
    "    wordMask = noWindowYtrue != -1\n",
    "    Ypred = noWindowYpred[wordMask]\n",
    "    Ytrue = np.array(noWindowYtrue[wordMask])\n",
    "    \n",
    "    print(classification_report(Ytrue, Ypred, target_names=labelNames))\n",
    "    \n",
    "    confusionMatrix = confusion_matrix(Ytrue, Ypred, normalize='true')\n",
    "    disp = ConfusionMatrixDisplay(confusion_matrix=confusionMatrix, display_labels=labelNames)\n",
    "    print(\"Confusion matrix:\")\n",
    "    disp.plot(cmap=plt.cm.Blues)\n",
    "    plt.show()"
   ]
  },
  {
   "cell_type": "markdown",
   "metadata": {},
   "source": [
    "# Validation set"
   ]
  },
  {
   "cell_type": "code",
   "execution_count": 13,
   "metadata": {},
   "outputs": [],
   "source": [
    "# generate output on validation data\n",
    "valPredict = model.predict(valX)"
   ]
  },
  {
   "cell_type": "code",
   "execution_count": 29,
   "metadata": {},
   "outputs": [
    {
     "name": "stdout",
     "output_type": "stream",
     "text": [
      "              precision    recall  f1-score   support\n",
      "\n",
      "           O       0.98      0.99      0.98    253908\n",
      "       COMMA       0.75      0.65      0.69     22396\n",
      "      PERIOD       0.79      0.84      0.81     18871\n",
      "    QUESTION       0.74      0.76      0.75      1489\n",
      "\n",
      "    accuracy                           0.95    296664\n",
      "   macro avg       0.81      0.81      0.81    296664\n",
      "weighted avg       0.95      0.95      0.95    296664\n",
      "\n",
      "Confusion matrix:\n"
     ]
    },
    {
     "data": {
      "image/png": "[encoded data removed]",
      "text/plain": [
       "<Figure size 432x288 with 2 Axes>"
      ]
     },
     "metadata": {
      "needs_background": "light"
     },
     "output_type": "display_data"
    }
   ],
   "source": [
    "evaluateResults(valY, valPredict, lenVal)"
   ]
  },
  {
   "cell_type": "markdown",
   "metadata": {},
   "source": [
    "# Test set"
   ]
  },
  {
   "cell_type": "code",
   "execution_count": 15,
   "metadata": {},
   "outputs": [],
   "source": [
    "# generate output on test data\n",
    "testPredict = model.predict(testX)"
   ]
  },
  {
   "cell_type": "code",
   "execution_count": 30,
   "metadata": {},
   "outputs": [
    {
     "name": "stdout",
     "output_type": "stream",
     "text": [
      "              precision    recall  f1-score   support\n",
      "\n",
      "           O       0.99      0.99      0.99     10984\n",
      "       COMMA       0.74      0.70      0.72       830\n",
      "      PERIOD       0.81      0.88      0.85       806\n",
      "    QUESTION       0.80      0.87      0.83        46\n",
      "\n",
      "    accuracy                           0.96     12666\n",
      "   macro avg       0.84      0.86      0.85     12666\n",
      "weighted avg       0.96      0.96      0.96     12666\n",
      "\n",
      "Confusion matrix:\n"
     ]
    },
    {
     "data": {
      "image/png": "[encoded data removed]",
      "text/plain": [
       "<Figure size 432x288 with 2 Axes>"
      ]
     },
     "metadata": {
      "needs_background": "light"
     },
     "output_type": "display_data"
    }
   ],
   "source": [
    "evaluateResults(testY, testPredict, lenTest)"
   ]
  },
  {
   "cell_type": "code",
   "execution_count": 17,
   "metadata": {},
   "outputs": [],
   "source": [
    "# generate output on test ASR data\n",
    "testAsrPredict = model.predict(testAsrX)"
   ]
  },
  {
   "cell_type": "code",
   "execution_count": 31,
   "metadata": {},
   "outputs": [
    {
     "name": "stdout",
     "output_type": "stream",
     "text": [
      "              precision    recall  f1-score   support\n",
      "\n",
      "           O       0.98      0.96      0.97     11207\n",
      "       COMMA       0.53      0.62      0.57       798\n",
      "      PERIOD       0.73      0.81      0.77       809\n",
      "    QUESTION       0.51      0.66      0.57        35\n",
      "\n",
      "    accuracy                           0.93     12849\n",
      "   macro avg       0.69      0.76      0.72     12849\n",
      "weighted avg       0.94      0.93      0.93     12849\n",
      "\n",
      "Confusion matrix:\n"
     ]
    },
    {
     "data": {
      "image/png": "[encoded data removed]",
      "text/plain": [
       "<Figure size 432x288 with 2 Axes>"
      ]
     },
     "metadata": {
      "needs_background": "light"
     },
     "output_type": "display_data"
    }
   ],
   "source": [
    "evaluateResults(testAsrY, testAsrPredict, lenTestAsr)"
   ]
  },
  {
   "cell_type": "markdown",
   "metadata": {},
   "source": [
    "## Adding ASR errors"
   ]
  },
  {
   "cell_type": "code",
   "execution_count": 53,
   "metadata": {},
   "outputs": [
    {
     "name": "stdout",
     "output_type": "stream",
     "text": [
      "100\n"
     ]
    }
   ],
   "source": [
    "# get the value for the special unknown token (should be 100 in case of BERT tokenizer)\n",
    "UNK = tokenizer.convert_tokens_to_ids(['[UNK]'])[0]\n",
    "print(UNK)"
   ]
  },
  {
   "cell_type": "code",
   "execution_count": 61,
   "metadata": {},
   "outputs": [],
   "source": [
    "# same as getPreparedDataset, but adds ASR-like errors based on Alam et al. (2020) data augmentation method\n",
    "# for the alpha parameters we multiplied the values from the thesis with 100 to get percentages\n",
    "def getASRerroredPreparedDataset(prefix, alpha, aSub, aDel, aIns):\n",
    "    \n",
    "    def addASRlikeErrors(X, Y, alpha, aSub, aDel, aIns):\n",
    "        \n",
    "        #print(X[:20])\n",
    "        #print(Y[:20])\n",
    "\n",
    "        # loop through all tokens (backwards, so we do not mess up indexes)\n",
    "        i = len(Y)\n",
    "        #print(\"tokens to iterate:\", i)\n",
    "        while i > 0:\n",
    "            i-=1\n",
    "            \n",
    "            # do action with probability alpha\n",
    "            if random.random() < alpha:\n",
    "                # select action\n",
    "                action = random.choices([\"sub\", \"del\", \"ins\"], weights=(aSub, aDel, aIns), k=1)[0]\n",
    "                \n",
    "                # replace token with [UNK]\n",
    "                if action == \"sub\":\n",
    "                    X[i] = UNK\n",
    "                # delete token and label\n",
    "                elif action == \"del\":\n",
    "                    del X[i]\n",
    "                    del Y[i]\n",
    "                # insert [UNK] token with label O\n",
    "                elif action == \"ins\":\n",
    "                    X.insert(i, UNK)\n",
    "                    Y.insert(i, LABEL_NOTHING)\n",
    "                else:\n",
    "                    raise ValueError(\"Did not generate an action\")\n",
    "                \n",
    "                #print(\"action at:\", i, action)                \n",
    "        \n",
    "        #print(X[:20])\n",
    "        #print(Y[:20])\n",
    "        \n",
    "        return X, Y\n",
    "    \n",
    "    def padAndChunkWindowed(data):\n",
    "        data = np.pad(data, (seqLen-1, seqLen-1), mode='constant')\n",
    "        return np.array(list(mit.windowed(data, seqLen, fillvalue=0, step=seqShift)), dtype=\"int32\")\n",
    "\n",
    "    with open(dataPath + modelName + \"/\" + prefix + \"_data.pkl\", 'rb') as f:\n",
    "        X, Y = pickle.load(f)\n",
    "        Xerr, Yerr = addASRlikeErrors(X, Y, alpha, aSub, aDel, aIns)\n",
    "    return _, _, 0\n",
    "    return padAndChunkWindowed(Xerr), padAndChunkWindowed(Yerr), len(Yerr)\n",
    "\n",
    "Exp1X, Exp1Y, lenExp1 = getASRerroredPreparedDataset(\"test\", 0.15, 40, 40, 20)"
   ]
  },
  {
   "cell_type": "code",
   "execution_count": null,
   "metadata": {},
   "outputs": [],
   "source": []
  },
  {
   "cell_type": "code",
   "execution_count": null,
   "metadata": {},
   "outputs": [],
   "source": []
  },
  {
   "cell_type": "code",
   "execution_count": null,
   "metadata": {},
   "outputs": [],
   "source": [
    "# loading the data for testing\n",
    "Xtest, Ytest, testTokens = loadDataFromTEDtalkDataset(\"IWSLT2012data/test2011\", tokenizer)\n",
    "Xtestasr, Ytestasr, testasrTokens = loadDataFromTEDtalkDataset(\"IWSLT2012data/test2011asr\", tokenizer)"
   ]
  },
  {
   "cell_type": "code",
   "execution_count": null,
   "metadata": {},
   "outputs": [],
   "source": [
    "# generate output on test data\n",
    "testPredict = model.predict(Xtest)\n",
    "testPredictasr = model.predict(Xtestasr)\n",
    "\n",
    "# select best class for each token\n",
    "resultYtest = testPredict.argmax(axis=1)\n",
    "resultYtestasr = testPredictasr.argmax(axis=1)"
   ]
  },
  {
   "cell_type": "code",
   "execution_count": null,
   "metadata": {},
   "outputs": [],
   "source": [
    "print(\"Test set:\")\n",
    "evaluateResults(Ytest, resultYtest)\n",
    "\n",
    "print(\"Test ASR set:\")\n",
    "evaluateResults(Ytestasr, resultYtestasr)"
   ]
  },
  {
   "cell_type": "code",
   "execution_count": null,
   "metadata": {},
   "outputs": [],
   "source": [
    "# evaluate on test data\n",
    "#resultsTest = model.evaluate(Xtest, Ytest, batch_size=batchSize)\n",
    "#print(\"test loss, test acc:\", resultsTest)\n",
    "\n",
    "#resultsTestasr = model.evaluate(Xtest, Ytest, batch_size=batchSize)\n",
    "#print(\"test (asr) loss, test (asr) acc:\", resultsTest)"
   ]
  },
  {
   "cell_type": "code",
   "execution_count": null,
   "metadata": {},
   "outputs": [],
   "source": [
    "# show the restoration on the test sets\n",
    "# get results\n",
    "#restoreTest = model.predict(Xtest)\n",
    "#restoreTestasr = model.predict(Xtestasr)\n",
    "\n",
    "# select best class for each token\n",
    "#resultYtest = restoreTest.argmax(axis=1)\n",
    "#resultYtestasr = restoreTestasr.argmax(axis=1)\n",
    "\n",
    "# reconstruct text with predicted tokens\n",
    "#resTextTest = reconstructText(testTokens, resultYtest, tokenizer)\n",
    "#resTextTestasr = reconstructText(testasrTokens, resultYtestasr, tokenizer)"
   ]
  },
  {
   "cell_type": "code",
   "execution_count": null,
   "metadata": {},
   "outputs": [],
   "source": [
    "#print(resTextTest)"
   ]
  },
  {
   "cell_type": "code",
   "execution_count": null,
   "metadata": {},
   "outputs": [],
   "source": [
    "#print(resTextTestasr)"
   ]
  },
  {
   "cell_type": "code",
   "execution_count": null,
   "metadata": {},
   "outputs": [],
   "source": [
    "# example restoration on paragraph from a story\n",
    "#toPredict = \"Then he sat down and began to reflect. In the morning he must find seconds. Whom should he choose? He searched his mind for the most important and celebrated names of his acquaintance. At last he decided on the Marquis de la Tour-Noire and Colonel Bourdin, an aristocrat and a soldier; they would do excellently. Their names would look well in the papers. He realised that he was thirsty, and drank three glasses of water one after the other; then he began to walk up and down again. He felt full of energy. If he played the gallant, showed himself determined, insisted on the most strict and dangerous arrangements, demanded a serious duel, a thoroughly serious duel, a positively terrible duel, his adversary would probably retire an apologist.\"\n",
    "#predictText(toPredict, model, tokenizer)"
   ]
  },
  {
   "cell_type": "code",
   "execution_count": null,
   "metadata": {},
   "outputs": [],
   "source": []
  },
  {
   "cell_type": "code",
   "execution_count": null,
   "metadata": {},
   "outputs": [],
   "source": [
    "\n",
    "\n",
    "def insertTarget(x, segment_size):\n",
    "    # creates segments of surrounding words for each word in x.\n",
    "    # inserts a zero token ([PAD]) halfway the segment, right after the inserted token.\n",
    "    # for the first segmentSize/2 tokens, the end of the data is used, as if the text loops\n",
    "    X = []\n",
    "    x_pad = x[-((segment_size-1)//2-1):]+x+x[:segment_size//2]\n",
    "\n",
    "    for i in range(len(x_pad)-segment_size+2):\n",
    "        segment = x_pad[i:i+segment_size-1]\n",
    "        segment.insert((segment_size-1)//2, 0)\n",
    "        X.append(segment)\n",
    "\n",
    "    return np.array(X)\n",
    "\n",
    "def encodeRawText(text):\n",
    "    # splits the text on spaces and creates labels for each created token\n",
    "    # the resulting token list will have no punctuation anymore\n",
    "    splitOnSpace = text.split(' ')\n",
    "    X = []\n",
    "    Y = []\n",
    "    \n",
    "    for word in splitOnSpace:\n",
    "        if len(word) > 0: # skip empty tokens\n",
    "            # look for tokens at the end of the word\n",
    "            # remove if found when appending to X\n",
    "            # also make everything lowercase\n",
    "            if word[-1] == '.':\n",
    "                X.append(word.lower()[:-1])\n",
    "                Y.append(LABEL_PERIOD)\n",
    "            elif word[-1] == ',':\n",
    "                X.append(word.lower()[:-1])\n",
    "                Y.append(LABEL_COMMA)\n",
    "            elif word[-1] == '?':\n",
    "                X.append(word.lower()[:-1])\n",
    "                Y.append(LABEL_QUESTION)\n",
    "            else:\n",
    "                X.append(word.lower())\n",
    "                Y.append(LABEL_NOTHING)\n",
    "                \n",
    "    return X, Y\n",
    "\n",
    "def prepareDataForModel(words, labels, tokenizer):\n",
    "    # returns a list of segments of token IDs for X\n",
    "    #  and a list of label tokens for y, corresponding to the segment in X\n",
    "    #  and a list of the unsegmented token IDs, for easier reconstruction\n",
    "    X = []\n",
    "    Y = []\n",
    "    for word, label in zip(words, labels):\n",
    "        y = [label]\n",
    "        # retokenize x\n",
    "        x = tokenizer.wordpiece_tokenizer.tokenize(word)\n",
    "        # encode x\n",
    "        x = tokenizer.convert_tokens_to_ids(x)\n",
    "\n",
    "        # do not add if tokenize failed\n",
    "        if len(x) > 0:\n",
    "            # if multiple tokens, create multiple labels of 0\n",
    "            #  set the last one to the real label\n",
    "            if len(x) > 1:\n",
    "                y = (len(x)-1)*[0]+y\n",
    "            X += x\n",
    "            Y += y\n",
    "                \n",
    "    # create segments for X, and return together with Y, and the unsegmented tokens\n",
    "    # return as Numpy array\n",
    "    return np.array(insertTarget(X, segmentSize)), np.array(Y), X\n",
    "\n",
    "def getTokenFromSegment(segment):\n",
    "    # is always at the same place of the segment (assumes even numbers!)\n",
    "    return segment[segmentSize//2-2]\n",
    "\n",
    "def reconstructText(tokenList, labels, tokenizer):\n",
    "    # reconstructs text by detokenizing and applying the given labels\n",
    "    tokens = tokenizer.convert_ids_to_tokens(tokenList)\n",
    "    \n",
    "    reconstructedText = \"\"\n",
    "    for tok, label in zip(tokens, labels):\n",
    "        # no space in between if second token starts with '##'\n",
    "        if tok.startswith(\"##\"):\n",
    "            reconstructedText += tok[2:]\n",
    "        else:\n",
    "            reconstructedText += \" \" + tok\n",
    "        \n",
    "        # add the punctuation from the label\n",
    "        if label == LABEL_COMMA:\n",
    "            reconstructedText += \",\"\n",
    "        elif label == LABEL_PERIOD:\n",
    "            reconstructedText += \".\"\n",
    "        elif label == LABEL_QUESTION:\n",
    "            reconstructedText += \"?\"\n",
    "                \n",
    "    reconstructedText = reconstructedText[1:] # skip the first space\n",
    "    \n",
    "    return reconstructedText\n",
    "    \n",
    "def loadDataFromFile(path):\n",
    "    # creates a dataset from a text file, which can be used on the model\n",
    "    # returns a list of segments of token IDs for X\n",
    "    #  and a list of label tokens for y, corresponding to the segment in X\n",
    "    #  and a list of the unsegmented token IDs, for easier reconstruction\n",
    "    text = \"\"\n",
    "    with open(path, 'r') as file:\n",
    "        text = file.read()\n",
    "        \n",
    "    X, Y = encodeRawText(text)\n",
    "    dataX, dataY, dataTokens = prepareDataForModel(X, Y, tokenizer)\n",
    "    \n",
    "    return dataX, dataY, dataTokens\n",
    "\n",
    "def loadDataFromTEDtalkDataset(path, tokenizer):\n",
    "    # loads the data from the TED talk dataset, which is already pre-processed\n",
    "    # returns a list of segments of token IDs for X\n",
    "    #  and a list of label tokens for y, corresponding to the segment in X\n",
    "    #  and a list of the unsegmented token IDs, for easier reconstruction\n",
    "    X = []\n",
    "    Y = []\n",
    "    with open(path, \"rb\") as file:\n",
    "        for line in file:\n",
    "            # dataset uses \\r\\n for newlines\n",
    "            word, punc = line.decode('utf-8', errors='ignore').replace('\\r\\n', '').split('\\t')\n",
    "            # encode y\n",
    "            y = [punctEncode[punc]]\n",
    "            # retokenize x\n",
    "            x = tokenizer.wordpiece_tokenizer.tokenize(word)\n",
    "            # encode x\n",
    "            x = tokenizer.convert_tokens_to_ids(x)\n",
    "            \n",
    "            # do not add if tokenize failed\n",
    "            if len(x) > 0:\n",
    "                # if multiple tokens, create multiple labels of 0\n",
    "                #  set the last one to the real label\n",
    "                if len(x) > 1:\n",
    "                    y = (len(x)-1)*[0]+y\n",
    "                X += x\n",
    "                Y += y\n",
    "                \n",
    "    # create segments for X, and return together with Y, and the unsegmented tokens\n",
    "    # return as Numpy array\n",
    "    return np.array(insertTarget(X, segmentSize)), np.array(Y), X\n",
    "\n",
    "def predictText(text, model, tokenizer):\n",
    "    # predicts the punctuation for a given text and print the resulting text\n",
    "    \n",
    "    # pre-process\n",
    "    X, Y = encodeRawText(text)\n",
    "    dataX, dataY, dataTokens = prepareDataForModel(X, Y, tokenizer)\n",
    "    \n",
    "    # get results\n",
    "    results = model.predict(dataX)\n",
    "    \n",
    "    # select best class for each token\n",
    "    resultY = results.argmax(axis=1)\n",
    "    \n",
    "    # reconstruct text with predicted tokens\n",
    "    resText = reconstructText(dataTokens, resultY, tokenizer)\n",
    "    \n",
    "    print(resText)"
   ]
  },
  {
   "cell_type": "code",
   "execution_count": null,
   "metadata": {},
   "outputs": [],
   "source": []
  },
  {
   "cell_type": "code",
   "execution_count": null,
   "metadata": {},
   "outputs": [],
   "source": [
    "\"\"\"\n",
    "class Generator(Sequence):\n",
    "    \n",
    "    def __init__(self, X, Y, isTrain=False):\n",
    "        self.encoded_texts = np.array(X)\n",
    "        self.targets = np.array(Y)\n",
    "        self.isTrain = isTrain\n",
    "        self.indexs = np.arange(len(X))\n",
    "    \n",
    "    def __len__(self):\n",
    "        return len(self.encoded_texts)//seqLen - 1\n",
    "\n",
    "    def __getitem__(self, index):\n",
    "        #shift = np.random.randint(seqShift) - seqShift // 2\\\n",
    "        #    if self.isTrain else 0\n",
    "\n",
    "        start_idx = index * seqLen# + shift\n",
    "        start_idx = max(0, start_idx)\n",
    "        end_idx = start_idx + seqLen\n",
    "        return np.array([self.encoded_texts[start_idx: end_idx]]), np.array([self.targets[start_idx: end_idx]])\n",
    "\"\"\"\n",
    "\"\"\"\n",
    "class DataGen(Sequence):\n",
    "    def __init__(self, batch_size, isTrain=False, X, Y):\n",
    "        self.encoded_texts = np.array(X)\n",
    "        self.targets = np.array(Y)\n",
    "        self.isTrain = isTrain\n",
    "        self.indexs = np.arange(len(X))\n",
    "        self.batch_size = batch_size\n",
    "\n",
    "    def __len__(self):\n",
    "        return len(self.encoded_texts)//seqLen - 1\n",
    "\n",
    "    def __getitem__(self, i):\n",
    "        start_idx = i * seqLen# + shift\n",
    "        start_idx = max(0, start_idx)\n",
    "        end_idx = start_idx + seqLen\n",
    "        return self.encoded_texts[start_idx: end_idx], self.targets[start_idx: end_idx]\n",
    "        \n",
    "        batch = self.samples[i * self.batch_size:(i + 1) * self.batch_size]\n",
    "        return self.preproc.process(*zip(batch))\n",
    "\n",
    "    def on_epoch_end(self):\n",
    "        shuffle(self.samples)\n",
    "\"\"\"\n",
    "\n",
    "#train_gen = Generator(valX, valY, isTrain=True)\n",
    "#data_gen = DataGen(batchSize, True, valX, valY)\n",
    "#myit = iter(train_gen)\n",
    "#print(next(myit))\n",
    "\n",
    "#X1 = []\n",
    "#X2 = []\n",
    "#X3 = []\n",
    "#Y1 = []\n",
    "\n",
    "#for i in range(64):\n",
    "#    a, b = next(myit)\n",
    "#    X1.append(a)\n",
    "#    X2.append([1] * seqLen)\n",
    "#    X3.append([0] * seqLen)\n",
    "#    Y1.append(b)\n",
    "\n",
    "#train_data = train_data.shuffle(shuffle_buffer_size)\n",
    "#train_data = train_data.batch(batch_size)\n",
    "\n",
    "# print(train_gen)\n",
    "\n",
    "#print(Y1)\n",
    "\n",
    "# test\n",
    "#X, y = next(iter(train_data))\n",
    "#print(X[0].numpy())\n",
    "\n",
    "#print(tokenizer.decode(X[0].numpy()))\n",
    "#print()\n",
    "#print(tokenizer.decode(X[1].numpy()))\n",
    "#print()\n",
    "#print(tokenizer.decode(X[2].numpy()))\n",
    "#print()\n",
    "#print(tokenizer.decode(X[3].numpy()))"
   ]
  },
  {
   "cell_type": "code",
   "execution_count": null,
   "metadata": {},
   "outputs": [],
   "source": [
    "#testX, testY = getPreparedDataset(\"test\")\n",
    "\n",
    "#print(testX.shape)\n",
    "\n",
    "#results = model.predict(testX)\n",
    "\n",
    "# select best class for each token\n",
    "#resultY = results.argmax(axis=-1)\n",
    "\n"
   ]
  },
  {
   "cell_type": "code",
   "execution_count": null,
   "metadata": {},
   "outputs": [],
   "source": [
    "# text preprocessing demo\n",
    "if False:\n",
    "    s = \"Tyranosaurus: kill me? Not enough, -- said the co-pilot -- ...\"\n",
    "    s = clean_text(s)\n",
    "    X, Y = encodeRawText(s)\n",
    "    data, targets = create_target(s)\n",
    "    print(X)\n",
    "    print(Y)\n",
    "    print(data)\n",
    "    print(targets)\n",
    "    print([tokenizer._convert_id_to_token(d) for d in data[1:-1]])"
   ]
  },
  {
   "cell_type": "code",
   "execution_count": null,
   "metadata": {},
   "outputs": [],
   "source": [
    "if RECREATE_PICKLE:\n",
    "    # loading data\n",
    "    with open(dataPath + \"train_texts.txt\", 'r', encoding=\"utf-8\") as f:\n",
    "        train_text = f.readlines()\n",
    "    with open(dataPath + \"dev_texts.txt\", 'r', encoding=\"utf-8\") as f:\n",
    "        valid_text = f.readlines()\n",
    "    with open(dataPath + \"test_texts_2012.txt\", 'r', encoding=\"utf-8\") as f:\n",
    "        test_text = f.readlines()\n",
    "\n",
    "    # put all datasets together for easy batch operations\n",
    "    datasets = train_text, valid_text, test_text"
   ]
  },
  {
   "cell_type": "code",
   "execution_count": null,
   "metadata": {},
   "outputs": [],
   "source": [
    "# prepare data for the model\n",
    "# code comes mostly from neural-punctuator by attilanagy234\n",
    "def clean_text(text):\n",
    "    \n",
    "    # replacing special tokens\n",
    "    text = text.replace('!', '.')\n",
    "    text = text.replace(':', ',')\n",
    "    text = text.replace('--', ',')\n",
    "    \n",
    "    reg = \"(?<=[a-zA-Z])-(?=[a-zA-Z]{2,})\"\n",
    "    r = re.compile(reg, re.DOTALL)\n",
    "    text = r.sub(' ', text)\n",
    "    \n",
    "    text = re.sub(r'\\s-\\s', ' , ', text)\n",
    "    \n",
    "    text = text.replace(';', '.')\n",
    "    text = text.replace(' ,', ',')\n",
    "    text = text.replace('♫', '')\n",
    "    text = text.replace('...', '')\n",
    "    text = text.replace('.\\\"', ',')\n",
    "    text = text.replace('\"', ',')\n",
    "\n",
    "    text = re.sub(r'--\\s?--', '', text)\n",
    "    text = re.sub(r'\\s+', ' ', text)\n",
    "    \n",
    "    text = re.sub(r',\\s?,', ',', text)\n",
    "    text = re.sub(r',\\s?\\.', '.', text)\n",
    "    text = re.sub(r'\\?\\s?\\.', '?', text)\n",
    "    text = re.sub(r'\\s+', ' ', text)\n",
    "    \n",
    "    text = re.sub(r'\\s+\\?', '?', text)\n",
    "    text = re.sub(r'\\s+,', ',', text)\n",
    "    text = re.sub(r'\\.[\\s+\\.]+', '. ', text)\n",
    "    text = re.sub(r'\\s+\\.', '.', text)\n",
    "    \n",
    "    return text.strip().lower()\n",
    "\n",
    "target_token2id = {t: tokenizer.encode(t)[-2] for t in \",.?\"}\n",
    "target_ids = list(target_token2id.values())\n",
    "target_ids\n",
    "\n",
    "id2target = {\n",
    "    0: 0,\n",
    "    -1: -1,\n",
    "}\n",
    "\n",
    "for i, ti in enumerate(target_ids):\n",
    "    id2target[ti] = i+1\n",
    "\n",
    "def create_target(text):\n",
    "    encoded_words, targets = [], []\n",
    "    \n",
    "    words = text.split(' ')\n",
    "\n",
    "    for word in words:\n",
    "        target = 0\n",
    "        for target_token, target_id in target_token2id.items():\n",
    "            if word.endswith(target_token):\n",
    "                word = word.rstrip(target_token)\n",
    "                target = id2target[target_id]\n",
    "\n",
    "        encoded_word = tokenizer.encode(word, add_special_tokens=False)\n",
    "        \n",
    "        for w in encoded_word:\n",
    "            encoded_words.append(w)\n",
    "        for _ in range(len(encoded_word)-1):\n",
    "            targets.append(-1)\n",
    "        targets.append(target)\n",
    "        \n",
    "        #print([tokenizer._convert_id_to_token(ew) for ew in encoded_word], target)\n",
    "        assert(len(encoded_word)>0)\n",
    "\n",
    "    encoded_words = [tokenizer.cls_token_id or tokenizer.bos_token_id] +\\\n",
    "                    encoded_words +\\\n",
    "                    [tokenizer.sep_token_id or tokenizer.eos_token_id]\n",
    "    targets = [-1] + targets + [-1]\n",
    "    \n",
    "    return encoded_words, targets"
   ]
  },
  {
   "cell_type": "code",
   "execution_count": null,
   "metadata": {},
   "outputs": [],
   "source": [
    "if RECREATE_PICKLE:\n",
    "    # clean the special characters from the texts\n",
    "    datasets = [[clean_text(text) for text in ds] for ds in datasets]\n",
    "\n",
    "    # encode the texts and generate labels\n",
    "    encoded_texts, targets = [], []\n",
    "\n",
    "    for ds in datasets:\n",
    "        x = list(zip(*(create_target(ts) for ts in tqdm(ds))))\n",
    "        encoded_texts.append(x[0])\n",
    "        targets.append(x[1])\n",
    "\n",
    "    print(encoded_texts[1][0][:10])\n",
    "    print(targets[1][0][:10])\n",
    "\n",
    "    # make folder for prepared dataset for specific BERT model\n",
    "    os.makedirs(dataPath + modelName, exist_ok=True)\n",
    "\n",
    "    # store\n",
    "    for i, name in enumerate(('train', 'valid', 'test')):\n",
    "        with open(dataPath + f'{modelName}/{name}_data.pkl', 'wb') as f:\n",
    "            pickle.dump((encoded_texts[i], targets[i]), f)"
   ]
  }
 ],
 "metadata": {
  "kernelspec": {
   "display_name": "Python 3 (ipykernel)",
   "language": "python",
   "name": "python3"
  },
  "language_info": {
   "codemirror_mode": {
    "name": "ipython",
    "version": 3
   },
   "file_extension": ".py",
   "mimetype": "text/x-python",
   "name": "python",
   "nbconvert_exporter": "python",
   "pygments_lexer": "ipython3",
   "version": "3.9.7"
  }
 },
 "nbformat": 4,
 "nbformat_minor": 4
}
