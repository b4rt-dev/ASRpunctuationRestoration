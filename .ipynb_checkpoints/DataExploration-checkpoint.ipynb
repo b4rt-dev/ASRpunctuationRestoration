{
 "cells": [
  {
   "cell_type": "code",
   "execution_count": null,
   "id": "288069ed",
   "metadata": {},
   "outputs": [],
   "source": [
    "\"\"\"\n",
    "# Load the data from the dataset into a dataframe\n",
    "def loadData(path):\n",
    "    data = []\n",
    "    with open(path, \"rb\") as file:\n",
    "        for line in file:\n",
    "            # dataset uses \\r\\n for newlines\n",
    "            row = line.decode('utf-8', errors='ignore').replace('\\r\\n', '').split('\\t')\n",
    "            row[1] = punctEncode[row[1]]\n",
    "            data.append(row)\n",
    "\n",
    "    # return as dataframe\n",
    "    df = pd.DataFrame(data = data, columns = [\"word\", \"token\"])\n",
    "    return df\n",
    "\n",
    "def printDataStats(df):\n",
    "    print(\"Number of words in dataset:\", len(df))\n",
    "    print();\n",
    "    print(\"Token frequency:\")\n",
    "    print(df.token.value_counts())\n",
    "    print();\n",
    "    print(\"Head of data:\")\n",
    "    display(df.head(12))\n",
    "\"\"\"\n",
    "\n",
    "\"\"\"\n",
    "traindf = loadData(\"IWSLT2012data/train2012\")\n",
    "print(\"--------TRAINING DATA--------\")\n",
    "printDataStats(traindf)\n",
    "\n",
    "devdf = loadData(\"IWSLT2012data/dev2012\")\n",
    "print(\"--------DEVELOPMENT DATA--------\")\n",
    "printDataStats(devdf)\n",
    "\n",
    "testrefdf = loadData(\"IWSLT2012data/test2011\")\n",
    "print(\"--------TEST DATA (REF)--------\")\n",
    "printDataStats(testrefdf)\n",
    "\n",
    "testasrdf = loadData(\"IWSLT2012data/test2011asr\")\n",
    "print(\"--------TEST DATA (ASR)--------\")\n",
    "printDataStats(testasrdf)\n",
    "\"\"\"\n",
    "\n",
    "\"\"\"\n",
    "### Data stats?\n",
    "\n",
    "- Sentence length distribution\n",
    "- Token frequency\n",
    "- Number of words\n",
    "- \n",
    "\n",
    "\"\"\"\n",
    "\n",
    "print(\"Data exploration\")"
   ]
  }
 ],
 "metadata": {
  "kernelspec": {
   "display_name": "Python 3 (ipykernel)",
   "language": "python",
   "name": "python3"
  },
  "language_info": {
   "codemirror_mode": {
    "name": "ipython",
    "version": 3
   },
   "file_extension": ".py",
   "mimetype": "text/x-python",
   "name": "python",
   "nbconvert_exporter": "python",
   "pygments_lexer": "ipython3",
   "version": "3.9.7"
  }
 },
 "nbformat": 4,
 "nbformat_minor": 5
}
