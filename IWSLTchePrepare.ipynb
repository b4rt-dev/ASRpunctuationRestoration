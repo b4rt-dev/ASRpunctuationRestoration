{
 "cells": [
  {
   "cell_type": "markdown",
   "id": "053c0e5a",
   "metadata": {},
   "source": [
    "# Prepare IWSLT2012/2011 by Che et al. data\n",
    "\n",
    "Used some code from https://github.com/attilanagy234/neural-punctuator"
   ]
  },
  {
   "cell_type": "markdown",
   "id": "f66a7a4a",
   "metadata": {},
   "source": [
    "## Create clean text from unparsed files"
   ]
  },
  {
   "cell_type": "code",
   "execution_count": 1,
   "id": "3d10c5d8",
   "metadata": {},
   "outputs": [],
   "source": [
    "import os\n",
    "import re\n",
    "import numpy as np\n",
    "import pickle\n",
    "from transformers import BertTokenizer\n",
    "from tqdm import tqdm"
   ]
  },
  {
   "cell_type": "code",
   "execution_count": 2,
   "id": "f60043b3",
   "metadata": {},
   "outputs": [],
   "source": [
    "# path of datasets (add / at the end)\n",
    "dataPath = \"IWSLTche/Data/\"\n",
    "\n",
    "# path of the unparsed files\n",
    "rawPath = \"IWSLTche/RAW/\"\n",
    "\n",
    "punctEncode = {\n",
    "    'O': '',\n",
    "    'COMMA': ',',\n",
    "    'PERIOD': '.',\n",
    "    'QUESTION': '?'\n",
    "}\n",
    "\n",
    "# Load the data from the dataset into a string\n",
    "def RAWtoText(sourcePath, targetPath):\n",
    "    fullText = \"\"\n",
    "    with open(sourcePath, \"rb\") as file:\n",
    "        for line in file:\n",
    "            # dataset uses \\r\\n for newlines\n",
    "            row = line.decode('utf-8', errors='ignore').replace('\\r\\n', '').split('\\t')\n",
    "            fullText += row[0]\n",
    "            fullText += punctEncode[row[1]]\n",
    "            fullText += ' '\n",
    "\n",
    "    fullText = fullText[:-1] # remove last space\n",
    "    \n",
    "    # write to file\n",
    "    with open(targetPath, 'w', encoding='utf-8') as f:\n",
    "        f.write(fullText)"
   ]
  },
  {
   "cell_type": "code",
   "execution_count": 3,
   "id": "6f4e2b6b",
   "metadata": {},
   "outputs": [],
   "source": [
    "RAWtoText(rawPath + \"test2011\", dataPath + \"testText.txt\")\n",
    "RAWtoText(rawPath + \"test2011asr\", dataPath + \"testAsrText.txt\")\n",
    "RAWtoText(rawPath + \"train2012\", dataPath + \"trainText.txt\")\n",
    "RAWtoText(rawPath + \"dev2012\", dataPath + \"devText.txt\")"
   ]
  },
  {
   "cell_type": "markdown",
   "id": "157a7b23",
   "metadata": {},
   "source": [
    "## Create Pickle data"
   ]
  },
  {
   "cell_type": "code",
   "execution_count": 4,
   "id": "1eb121c6",
   "metadata": {},
   "outputs": [],
   "source": [
    "# labels\n",
    "LABEL_NOTHING = 0\n",
    "LABEL_COMMA = 1\n",
    "LABEL_PERIOD = 2\n",
    "LABEL_QUESTION = 3\n",
    "labelNames = [\"O\", \"COMMA\", \"PERIOD\", \"QUESTION\"]\n",
    "\n",
    "# encode the punctuation label as a number\n",
    "punctEncode = {\n",
    "    \"O\": LABEL_NOTHING,\n",
    "    \"COMMA\": LABEL_COMMA,\n",
    "    \"PERIOD\": LABEL_PERIOD,\n",
    "    \"QUESTION\": LABEL_QUESTION\n",
    "}\n",
    "\n",
    "# which BERT network to use\n",
    "modelName = \"bert-base-uncased\"\n",
    "\n",
    "# load BERT tokenizer\n",
    "tokenizer = BertTokenizer.from_pretrained(modelName)"
   ]
  },
  {
   "cell_type": "code",
   "execution_count": 5,
   "id": "54b70c75",
   "metadata": {},
   "outputs": [],
   "source": [
    "# loading data\n",
    "with open(dataPath + \"trainText.txt\", 'r', encoding=\"utf-8\") as f:\n",
    "    train_text = f.read()\n",
    "with open(dataPath + \"devText.txt\", 'r', encoding=\"utf-8\") as f:\n",
    "    valid_text = f.read()\n",
    "with open(dataPath + \"testText.txt\", 'r', encoding=\"utf-8\") as f:\n",
    "    test_text = f.read()\n",
    "with open(dataPath + \"testAsrText.txt\", 'r', encoding=\"utf-8\") as f:\n",
    "    testasr_text = f.read()\n",
    "\n",
    "# put all datasets together for easy batch operations\n",
    "datasets = train_text, valid_text, test_text, testasr_text"
   ]
  },
  {
   "cell_type": "code",
   "execution_count": 6,
   "id": "c734944b",
   "metadata": {},
   "outputs": [],
   "source": [
    "# prepare data for the model\n",
    "# code comes mostly from neural-punctuator by attilanagy234\n",
    "def clean_text(text):\n",
    "    \n",
    "    # replacing special tokens\n",
    "    text = text.replace('!', '.')\n",
    "    text = text.replace(':', ',')\n",
    "    text = text.replace('--', ',')\n",
    "    \n",
    "    reg = \"(?<=[a-zA-Z])-(?=[a-zA-Z]{2,})\"\n",
    "    r = re.compile(reg, re.DOTALL)\n",
    "    text = r.sub(' ', text)\n",
    "    \n",
    "    text = re.sub(r'\\s-\\s', ' , ', text)\n",
    "    \n",
    "    text = text.replace(';', '.')\n",
    "    text = text.replace(' ,', ',')\n",
    "    text = text.replace('♫', '')\n",
    "    text = text.replace('...', '')\n",
    "    text = text.replace('.\\\"', ',')\n",
    "    text = text.replace('\"', ',')\n",
    "\n",
    "    text = re.sub(r'--\\s?--', '', text)\n",
    "    text = re.sub(r'\\s+', ' ', text)\n",
    "    \n",
    "    text = re.sub(r',\\s?,', ',', text)\n",
    "    text = re.sub(r',\\s?\\.', '.', text)\n",
    "    text = re.sub(r'\\?\\s?\\.', '?', text)\n",
    "    text = re.sub(r'\\s+', ' ', text)\n",
    "    \n",
    "    text = re.sub(r'\\s+\\?', '?', text)\n",
    "    text = re.sub(r'\\s+,', ',', text)\n",
    "    text = re.sub(r'\\.[\\s+\\.]+', '. ', text)\n",
    "    text = re.sub(r'\\s+\\.', '.', text)\n",
    "    \n",
    "    return text.strip().lower()\n",
    "\n",
    "target_token2id = {t: tokenizer.encode(t)[-2] for t in \",.?\"}\n",
    "target_ids = list(target_token2id.values())\n",
    "target_ids\n",
    "\n",
    "id2target = {\n",
    "    0: 0,\n",
    "    -1: -1,\n",
    "}\n",
    "\n",
    "for i, ti in enumerate(target_ids):\n",
    "    id2target[ti] = i+1\n",
    "\n",
    "def create_target(text):\n",
    "    encoded_words, targets = [], []\n",
    "    \n",
    "    words = text.split(' ')\n",
    "\n",
    "    for word in words:\n",
    "        target = 0\n",
    "        for target_token, target_id in target_token2id.items():\n",
    "            if word.endswith(target_token):\n",
    "                word = word.rstrip(target_token)\n",
    "                target = id2target[target_id]\n",
    "\n",
    "        encoded_word = tokenizer.encode(word, add_special_tokens=False)\n",
    "        \n",
    "        for w in encoded_word:\n",
    "            encoded_words.append(w)\n",
    "        for _ in range(len(encoded_word)-1):\n",
    "            targets.append(-1)\n",
    "        targets.append(target)\n",
    "        \n",
    "        #print([tokenizer._convert_id_to_token(ew) for ew in encoded_word], target)\n",
    "        assert(len(encoded_word)>0)\n",
    "\n",
    "    #encoded_words = [tokenizer.cls_token_id or tokenizer.bos_token_id] +\\\n",
    "    #                encoded_words +\\\n",
    "    #                [tokenizer.sep_token_id or tokenizer.eos_token_id]\n",
    "    #targets = [-1] + targets + [-1]\n",
    "    \n",
    "    return encoded_words, targets"
   ]
  },
  {
   "cell_type": "code",
   "execution_count": 7,
   "id": "f9b95cf3",
   "metadata": {},
   "outputs": [
    {
     "name": "stderr",
     "output_type": "stream",
     "text": [
      "100%|█████████████████████████████████████████████| 4/4 [02:03<00:00, 30.84s/it]\n"
     ]
    }
   ],
   "source": [
    "# clean the special characters from the texts\n",
    "datasets = [clean_text(text) for text in datasets]\n",
    "\n",
    "# encode the texts and generate labels\n",
    "encoded_texts, targets = [], []\n",
    "\n",
    "for ds in tqdm(datasets):\n",
    "    x = list(zip(*(create_target(ds))))\n",
    "    encoded_texts.append(x[0])\n",
    "    targets.append(x[1])\n",
    "\n",
    "\n",
    "# make folder for prepared dataset for specific BERT model\n",
    "os.makedirs(dataPath + modelName, exist_ok=True)\n",
    "\n",
    "# store\n",
    "for i, name in enumerate(('train', 'valid', 'test', 'testasr')):\n",
    "    with open(dataPath + f'{modelName}/{name}_data.pkl', 'wb') as f:\n",
    "        pickle.dump((encoded_texts[i], targets[i]), f)"
   ]
  },
  {
   "cell_type": "code",
   "execution_count": null,
   "id": "bbc0bf81",
   "metadata": {},
   "outputs": [],
   "source": []
  }
 ],
 "metadata": {
  "kernelspec": {
   "display_name": "Python 3 (ipykernel)",
   "language": "python",
   "name": "python3"
  },
  "language_info": {
   "codemirror_mode": {
    "name": "ipython",
    "version": 3
   },
   "file_extension": ".py",
   "mimetype": "text/x-python",
   "name": "python",
   "nbconvert_exporter": "python",
   "pygments_lexer": "ipython3",
   "version": "3.9.7"
  }
 },
 "nbformat": 4,
 "nbformat_minor": 5
}
