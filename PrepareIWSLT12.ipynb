{
 "cells": [
  {
   "cell_type": "markdown",
   "id": "ec6b73e4",
   "metadata": {},
   "source": [
    "# Prepare IWSLT2012 data\n",
    "\n",
    "Used some code from https://github.com/attilanagy234/neural-punctuator"
   ]
  },
  {
   "cell_type": "markdown",
   "id": "52b2b859",
   "metadata": {},
   "source": [
    "## Create clean text from unparsed files"
   ]
  },
  {
   "cell_type": "code",
   "execution_count": 1,
   "id": "22bf0484",
   "metadata": {},
   "outputs": [],
   "source": [
    "import os\n",
    "import xml.etree.ElementTree as ET\n",
    "import re\n",
    "import numpy as np\n",
    "import pickle\n",
    "from transformers import BertTokenizer\n",
    "from tqdm import tqdm"
   ]
  },
  {
   "cell_type": "code",
   "execution_count": 2,
   "id": "47db9b1b",
   "metadata": {},
   "outputs": [],
   "source": [
    "# path of datasets (add / at the end)\n",
    "dataPath = \"IWSLT2012/Data/\"\n",
    "\n",
    "# path of the unparsed files\n",
    "rawPath = \"IWSLT2012/RAW/\""
   ]
  },
  {
   "cell_type": "code",
   "execution_count": 3,
   "id": "6bce5924",
   "metadata": {},
   "outputs": [],
   "source": [
    "def prepareData(sourcePath, targetPath):\n",
    "    # parse xml\n",
    "    xmlp = ET.XMLParser(encoding=\"utf-8\")\n",
    "    tree = ET.parse(sourcePath, parser=xmlp)\n",
    "    root = tree.getroot()\n",
    "\n",
    "    # add segments\n",
    "    docs = []\n",
    "    for doc_id in range(len(root[0])):\n",
    "        doc_segs = []\n",
    "        doc = root[0][doc_id]\n",
    "        for seg in doc.iter('seg'):\n",
    "            doc_segs.append(seg.text)\n",
    "        docs.append(doc_segs)\n",
    "\n",
    "    # strip text\n",
    "    texts = [re.sub(r'\\s+', ' ', ''.join(d)).strip() for d in docs]\n",
    "\n",
    "    # convert to single line text and write to file\n",
    "    with open(targetPath, 'w', encoding='utf-8') as f:\n",
    "        text = ' '.join(texts)\n",
    "        f.write(text + '\\n')"
   ]
  },
  {
   "cell_type": "code",
   "execution_count": 4,
   "id": "4ca6883d",
   "metadata": {},
   "outputs": [],
   "source": [
    "prepareData(rawPath + \"IWSLT12.TALK.dev2010.en-fr.en.xml\", dataPath + \"dev_texts.txt\")\n",
    "prepareData(rawPath + \"IWSLT12.TED.MT.tst2012.en-fr.en.xml\", dataPath + \"test_texts_2012.txt\")"
   ]
  },
  {
   "cell_type": "code",
   "execution_count": 5,
   "id": "082be3cb",
   "metadata": {},
   "outputs": [],
   "source": [
    "# train data is in a slightly other format\n",
    "\"\"\" Wrap original file to make it processable with defualt python parser\n",
    "<?xml version=\"1.0\" encoding=\"UTF-8\"?>\n",
    "<mteval>\n",
    "...\n",
    "</mteval>\n",
    "\"\"\"\n",
    "\n",
    "trainPath = rawPath + \"train.tags.en-fr.en\"\n",
    "targetPath = dataPath + \"train_texts.txt\"\n",
    "\n",
    "xmlp = ET.XMLParser(encoding=\"utf-8\")\n",
    "tree = ET.parse(trainPath, parser=xmlp)\n",
    "root = tree.getroot()\n",
    "\n",
    "# add segments\n",
    "docs = []\n",
    "for doc in root.iter('transcript'):\n",
    "    docs.append(doc.text)\n",
    "\n",
    "# strip text\n",
    "texts = [re.sub(r'\\s+', ' ', d.replace('\\n', ' ')).strip() for d in docs]\n",
    "\n",
    "# write to file\n",
    "with open(targetPath, 'w', encoding='utf-8') as f:\n",
    "    text = ' '.join(texts)\n",
    "    f.write(text + '\\n')"
   ]
  },
  {
   "cell_type": "markdown",
   "id": "eba1b40b",
   "metadata": {},
   "source": [
    "## Create Pickle data"
   ]
  },
  {
   "cell_type": "code",
   "execution_count": 6,
   "id": "6310729c",
   "metadata": {},
   "outputs": [],
   "source": [
    "# labels\n",
    "LABEL_NOTHING = 0\n",
    "LABEL_COMMA = 1\n",
    "LABEL_PERIOD = 2\n",
    "LABEL_QUESTION = 3\n",
    "labelNames = [\"O\", \"COMMA\", \"PERIOD\", \"QUESTION\"]\n",
    "\n",
    "# encode the punctuation label as a number\n",
    "punctEncode = {\n",
    "    \"O\": LABEL_NOTHING,\n",
    "    \"COMMA\": LABEL_COMMA,\n",
    "    \"PERIOD\": LABEL_PERIOD,\n",
    "    \"QUESTION\": LABEL_QUESTION\n",
    "}\n",
    "\n",
    "# which BERT network to use\n",
    "modelName = \"bert-base-uncased\"\n",
    "\n",
    "# load BERT tokenizer\n",
    "tokenizer = BertTokenizer.from_pretrained(modelName)"
   ]
  },
  {
   "cell_type": "code",
   "execution_count": 7,
   "id": "8ec3842b",
   "metadata": {},
   "outputs": [],
   "source": [
    "# loading data\n",
    "with open(dataPath + \"train_texts.txt\", 'r', encoding=\"utf-8\") as f:\n",
    "    train_text = f.read()\n",
    "with open(dataPath + \"dev_texts.txt\", 'r', encoding=\"utf-8\") as f:\n",
    "    valid_text = f.read()\n",
    "with open(dataPath + \"test_texts_2012.txt\", 'r', encoding=\"utf-8\") as f:\n",
    "    test_text = f.read()\n",
    "\n",
    "# put all datasets together for easy batch operations\n",
    "datasets = train_text, valid_text, test_text"
   ]
  },
  {
   "cell_type": "code",
   "execution_count": 8,
   "id": "c30fde18",
   "metadata": {},
   "outputs": [],
   "source": [
    "# prepare data for the model\n",
    "# code comes mostly from neural-punctuator by attilanagy234\n",
    "def clean_text(text):\n",
    "    \n",
    "    # replacing special tokens\n",
    "    text = text.replace('!', '.')\n",
    "    text = text.replace(':', ',')\n",
    "    text = text.replace('--', ',')\n",
    "    \n",
    "    reg = \"(?<=[a-zA-Z])-(?=[a-zA-Z]{2,})\"\n",
    "    r = re.compile(reg, re.DOTALL)\n",
    "    text = r.sub(' ', text)\n",
    "    \n",
    "    text = re.sub(r'\\s-\\s', ' , ', text)\n",
    "    \n",
    "    text = text.replace(';', '.')\n",
    "    text = text.replace(' ,', ',')\n",
    "    text = text.replace('♫', '')\n",
    "    text = text.replace('...', '')\n",
    "    text = text.replace('.\\\"', ',')\n",
    "    text = text.replace('\"', ',')\n",
    "\n",
    "    text = re.sub(r'--\\s?--', '', text)\n",
    "    text = re.sub(r'\\s+', ' ', text)\n",
    "    \n",
    "    text = re.sub(r',\\s?,', ',', text)\n",
    "    text = re.sub(r',\\s?\\.', '.', text)\n",
    "    text = re.sub(r'\\?\\s?\\.', '?', text)\n",
    "    text = re.sub(r'\\s+', ' ', text)\n",
    "    \n",
    "    text = re.sub(r'\\s+\\?', '?', text)\n",
    "    text = re.sub(r'\\s+,', ',', text)\n",
    "    text = re.sub(r'\\.[\\s+\\.]+', '. ', text)\n",
    "    text = re.sub(r'\\s+\\.', '.', text)\n",
    "    \n",
    "    return text.strip().lower()\n",
    "\n",
    "target_token2id = {t: tokenizer.encode(t)[-2] for t in \",.?\"}\n",
    "target_ids = list(target_token2id.values())\n",
    "target_ids\n",
    "\n",
    "id2target = {\n",
    "    0: 0,\n",
    "    -1: -1,\n",
    "}\n",
    "\n",
    "for i, ti in enumerate(target_ids):\n",
    "    id2target[ti] = i+1\n",
    "\n",
    "def create_target(text):\n",
    "    encoded_words, targets = [], []\n",
    "    \n",
    "    words = text.split(' ')\n",
    "\n",
    "    for word in tqdm(words):\n",
    "        target = 0\n",
    "        for target_token, target_id in target_token2id.items():\n",
    "            if word.endswith(target_token):\n",
    "                word = word.rstrip(target_token)\n",
    "                target = id2target[target_id]\n",
    "\n",
    "        encoded_word = tokenizer.encode(word, add_special_tokens=False)\n",
    "        \n",
    "        for w in encoded_word:\n",
    "            encoded_words.append(w)\n",
    "        for _ in range(len(encoded_word)-1):\n",
    "            targets.append(-1)\n",
    "        targets.append(target)\n",
    "        \n",
    "        #print([tokenizer._convert_id_to_token(ew) for ew in encoded_word], target)\n",
    "        assert(len(encoded_word)>0)\n",
    "\n",
    "    #encoded_words = [tokenizer.cls_token_id or tokenizer.bos_token_id] +\\\n",
    "    #                encoded_words +\\\n",
    "    #                [tokenizer.sep_token_id or tokenizer.eos_token_id]\n",
    "    #targets = [-1] + targets + [-1]\n",
    "    \n",
    "    return encoded_words, targets"
   ]
  },
  {
   "cell_type": "code",
   "execution_count": 9,
   "id": "387de82b",
   "metadata": {},
   "outputs": [
    {
     "name": "stdout",
     "output_type": "stream",
     "text": [
      "PROCESSING DATASET 1 / 3\n"
     ]
    },
    {
     "name": "stderr",
     "output_type": "stream",
     "text": [
      "100%|██████████████████████████████| 2339457/2339457 [02:03<00:00, 18985.34it/s]\n"
     ]
    },
    {
     "name": "stdout",
     "output_type": "stream",
     "text": [
      "PROCESSING DATASET 2 / 3\n"
     ]
    },
    {
     "name": "stderr",
     "output_type": "stream",
     "text": [
      "100%|██████████████████████████████████| 17346/17346 [00:00<00:00, 18850.76it/s]\n"
     ]
    },
    {
     "name": "stdout",
     "output_type": "stream",
     "text": [
      "PROCESSING DATASET 3 / 3\n"
     ]
    },
    {
     "name": "stderr",
     "output_type": "stream",
     "text": [
      "100%|██████████████████████████████████| 18474/18474 [00:00<00:00, 18997.63it/s]\n"
     ]
    }
   ],
   "source": [
    "# clean the special characters from the texts\n",
    "datasets = [clean_text(text) for text in datasets]\n",
    "\n",
    "# encode the texts and generate labels\n",
    "encoded_texts, targets = [], []\n",
    "\n",
    "currentDataset = 0\n",
    "for ds in datasets:\n",
    "    currentDataset += 1\n",
    "    print(\"PROCESSING DATASET\", currentDataset, \"/\", len(datasets))\n",
    "    x, y = create_target(ds)\n",
    "    encoded_texts.append(x)\n",
    "    targets.append(y)\n",
    "\n",
    "# make folder for prepared dataset for specific BERT model\n",
    "os.makedirs(dataPath + modelName, exist_ok=True)\n",
    "\n",
    "# store\n",
    "for i, name in enumerate(('train', 'valid', 'test')):\n",
    "    with open(dataPath + f'{modelName}/{name}_data.pkl', 'wb') as f:\n",
    "        pickle.dump((encoded_texts[i], targets[i]), f)"
   ]
  },
  {
   "cell_type": "code",
   "execution_count": null,
   "id": "29a116b0",
   "metadata": {},
   "outputs": [],
   "source": []
  }
 ],
 "metadata": {
  "kernelspec": {
   "display_name": "Python 3 (ipykernel)",
   "language": "python",
   "name": "python3"
  },
  "language_info": {
   "codemirror_mode": {
    "name": "ipython",
    "version": 3
   },
   "file_extension": ".py",
   "mimetype": "text/x-python",
   "name": "python",
   "nbconvert_exporter": "python",
   "pygments_lexer": "ipython3",
   "version": "3.9.7"
  }
 },
 "nbformat": 4,
 "nbformat_minor": 5
}
