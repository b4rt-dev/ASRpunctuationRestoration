{
 "cells": [
  {
   "cell_type": "markdown",
   "id": "ec6b73e4",
   "metadata": {},
   "source": [
    "# Prepare IWSLT12 data\n",
    "Convert the data from XML to raw text\n",
    "\n",
    "\n",
    "Used some code from https://github.com/attilanagy234/neural-punctuator"
   ]
  },
  {
   "cell_type": "code",
   "execution_count": 1,
   "id": "22bf0484",
   "metadata": {},
   "outputs": [],
   "source": [
    "import os\n",
    "import xml.etree.ElementTree as ET\n",
    "import re"
   ]
  },
  {
   "cell_type": "code",
   "execution_count": 2,
   "id": "47db9b1b",
   "metadata": {},
   "outputs": [],
   "source": [
    "dataPath = \"Data/\"\n",
    "rawPath = \"RAW/\""
   ]
  },
  {
   "cell_type": "code",
   "execution_count": 3,
   "id": "6bce5924",
   "metadata": {},
   "outputs": [],
   "source": [
    "def prepareData(sourcePath, targetPath):\n",
    "    # parse xml\n",
    "    xmlp = ET.XMLParser(encoding=\"utf-8\")\n",
    "    tree = ET.parse(sourcePath, parser=xmlp)\n",
    "    root = tree.getroot()\n",
    "\n",
    "    # add segments\n",
    "    docs = []\n",
    "    for doc_id in range(len(root[0])):\n",
    "        doc_segs = []\n",
    "        doc = root[0][doc_id]\n",
    "        for seg in doc.iter('seg'):\n",
    "            doc_segs.append(seg.text)\n",
    "        docs.append(doc_segs)\n",
    "\n",
    "    # strip text\n",
    "    texts = [re.sub(r'\\s+', ' ', ''.join(d)).strip() for d in docs]\n",
    "\n",
    "    # write to file\n",
    "    with open(targetPath, 'w', encoding='utf-8') as f:\n",
    "        for text in texts:\n",
    "            f.write(text + '\\n')"
   ]
  },
  {
   "cell_type": "code",
   "execution_count": 4,
   "id": "4ca6883d",
   "metadata": {},
   "outputs": [],
   "source": [
    "prepareData(rawPath + \"IWSLT12.TALK.dev2010.en-fr.en.xml\", dataPath + \"dev_texts.txt\")\n",
    "prepareData(rawPath + \"IWSLT12.TED.MT.tst2012.en-fr.en.xml\", dataPath + \"test_texts_2012.txt\")"
   ]
  },
  {
   "cell_type": "code",
   "execution_count": 5,
   "id": "082be3cb",
   "metadata": {},
   "outputs": [],
   "source": [
    "# train data is in a slightly other format\n",
    "\"\"\" Wrap original file to make it processable with defualt python parser\n",
    "<?xml version=\"1.0\" encoding=\"UTF-8\"?>\n",
    "<mteval>\n",
    "...\n",
    "</mteval>\n",
    "\"\"\"\n",
    "\n",
    "trainPath = rawPath + \"train.tags.en-fr.en\"\n",
    "targetPath = dataPath + \"train_texts.txt\"\n",
    "\n",
    "xmlp = ET.XMLParser(encoding=\"utf-8\")\n",
    "tree = ET.parse(trainPath, parser=xmlp)\n",
    "root = tree.getroot()\n",
    "\n",
    "# add segments\n",
    "docs = []\n",
    "for doc in root.iter('transcript'):\n",
    "    docs.append(doc.text)\n",
    "\n",
    "# strip text\n",
    "texts = [re.sub(r'\\s+', ' ', d.replace('\\n', ' ')).strip() for d in docs]\n",
    "\n",
    "# write to file\n",
    "with open(targetPath, 'w', encoding='utf-8') as f:\n",
    "    for text in texts:\n",
    "        f.write(text + '\\n')"
   ]
  }
 ],
 "metadata": {
  "kernelspec": {
   "display_name": "Python 3 (ipykernel)",
   "language": "python",
   "name": "python3"
  },
  "language_info": {
   "codemirror_mode": {
    "name": "ipython",
    "version": 3
   },
   "file_extension": ".py",
   "mimetype": "text/x-python",
   "name": "python",
   "nbconvert_exporter": "python",
   "pygments_lexer": "ipython3",
   "version": "3.9.7"
  }
 },
 "nbformat": 4,
 "nbformat_minor": 5
}
